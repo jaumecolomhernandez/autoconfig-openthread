{
 "cells": [
  {
   "cell_type": "markdown",
   "metadata": {},
   "source": [
    "# Automatic commissioning notebook\n",
    "In this notebook I attempt to automate the process of commissioning new devices. It connects via serial port to the different devices and calls the differents commands in order to create a thread network and configure it's clients.\n",
    "\n",
    "Been following this guide: https://codelabs.developers.google.com/codelabs/openthread-hardware/#0"
   ]
  },
  {
   "cell_type": "code",
   "execution_count": 33,
   "metadata": {},
   "outputs": [],
   "source": [
    "import serial\n",
    "import os"
   ]
  },
  {
   "cell_type": "code",
   "execution_count": 7,
   "metadata": {},
   "outputs": [
    {
     "name": "stdout",
     "output_type": "stream",
     "text": [
      "usuario\r\n"
     ]
    }
   ],
   "source": [
    "!echo $USER"
   ]
  },
  {
   "cell_type": "markdown",
   "metadata": {},
   "source": [
    "First step is to discover the present devices in the computer."
   ]
  },
  {
   "cell_type": "code",
   "execution_count": 162,
   "metadata": {},
   "outputs": [],
   "source": [
    "result = os.popen('find /dev/serial/by-id/ -maxdepth 1 -type l -ls | cut -d\"/\" -f5- ').read()"
   ]
  },
  {
   "cell_type": "code",
   "execution_count": 163,
   "metadata": {},
   "outputs": [],
   "source": [
    "def get_devices():\n",
    "    result = os.popen('find /dev/serial/by-id/ -maxdepth 1 -type l -ls | cut -d\"/\" -f5- ').read()\n",
    "    print (result)\n",
    "    values = [line[-1] for line in result.splitlines()]\n",
    "    return values"
   ]
  },
  {
   "cell_type": "code",
   "execution_count": 178,
   "metadata": {
    "scrolled": true
   },
   "outputs": [
    {
     "name": "stdout",
     "output_type": "stream",
     "text": [
      "usb-Silicon_Labs_Zolertia_Firefly_platform_ZOL-B001-A200001546-if00-port0 -> ../../ttyUSB1\n",
      "usb-Silicon_Labs_Zolertia_Firefly_platform_ZOL-B001-A200001544-if00-port0 -> ../../ttyUSB0\n",
      "\n"
     ]
    }
   ],
   "source": [
    "usbs = get_devices()"
   ]
  },
  {
   "cell_type": "code",
   "execution_count": 179,
   "metadata": {},
   "outputs": [],
   "source": [
    "commissioner = serial.Serial('/dev/ttyUSB'+usbs[0], 115200, timeout=0.5)"
   ]
  },
  {
   "cell_type": "code",
   "execution_count": 180,
   "metadata": {},
   "outputs": [],
   "source": [
    "joiner = serial.Serial('/dev/ttyUSB'+usbs[1], 115200, timeout=0.5)"
   ]
  },
  {
   "cell_type": "code",
   "execution_count": 151,
   "metadata": {},
   "outputs": [],
   "source": [
    "def read_answer(serial_d, back=False, ending_ar=None, timeout=None):\n",
    "    # Reads and analyzes the response\n",
    "\n",
    "    # Initial variables\n",
    "    ret = []\n",
    "    counter = 0\n",
    "\n",
    "    # Check if using the default values or different\n",
    "    # this is used to check the connection successful\n",
    "    if ending_ar:\n",
    "        endings = ending_ar\n",
    "    else:\n",
    "        endings = [\"> \", \"Done\\r\\n\"]\n",
    "    \n",
    "    data = \"\"\n",
    "    while not (data in endings):\n",
    "        data = serial_d.readline().decode('ascii')\n",
    "        ret.append(data)\n",
    "        # Prints the received data\n",
    "        print(data, end=\"\")\n",
    "\n",
    "        # It checks that counter is a value and the condition\n",
    "        if timeout and counter>timeout:\n",
    "            # If we are over the timeout we will send \\n to wake up the cli\n",
    "            serial_d.write((\"\\n\").encode())\n",
    "            return\n",
    "\n",
    "        counter = counter + 1\n",
    "    if back:\n",
    "        return ret"
   ]
  },
  {
   "cell_type": "code",
   "execution_count": 152,
   "metadata": {},
   "outputs": [],
   "source": [
    "def send_command(serial_d, command, back=False, ending_ar=None, timeout=None):\n",
    "    # Sends command and reads the response\n",
    "    serial_d.write((command+\"\\n\").encode())\n",
    "    return read_answer(serial_d, back, ending_ar, timeout)"
   ]
  },
  {
   "cell_type": "code",
   "execution_count": 181,
   "metadata": {},
   "outputs": [
    {
     "name": "stdout",
     "output_type": "stream",
     "text": [
      "dataset init new\r\n",
      "Done\r\n",
      "> dataset\r\n",
      "Active Timestamp: 1\r\n",
      "Channel: 26\r\n",
      "Channel Mask: 07fff800\r\n",
      "Ext PAN ID: fe3c51f31c666cd7\r\n",
      "Mesh Local Prefix: fd2b:d40d:ebee:1d1f/64\r\n",
      "Master Key: 0293ac7639f4d10361f3110ec223d2bc\r\n",
      "Network Name: OpenThread-8537\r\n",
      "PAN ID: 0x8537\r\n",
      "PSKc: e7992eaf49d10652fe81508fa17bf3e9\r\n",
      "Security Policy: 0, onrcb\r\n",
      "Done\r\n",
      "> dataset commit active\r\n",
      "Done\r\n",
      "> panid 0xdead\r\n",
      "Done\r\n",
      "> ifconfig up\r\n",
      "Done\r\n",
      "> thread start\r\n",
      "Done\r\n",
      "> ipaddr\r\n",
      "fd2b:d40d:ebee:1d1f:0:ff:fe00:e000\r\n",
      "fd2b:d40d:ebee:1d1f:343c:8efe:5389:8864\r\n",
      "fe80:0:0:0:6834:1547:415e:14\r\n",
      "Done\r\n"
     ]
    }
   ],
   "source": [
    "# initialize the commissioner\n",
    "init_commands = [\n",
    "    \"dataset init new\",\n",
    "    \"dataset\",\n",
    "    \"dataset commit active\",\n",
    "    \"panid 0xdead\",\n",
    "    \"ifconfig up\",\n",
    "    \"thread start\",\n",
    "    \"ipaddr\"]\n",
    "\n",
    "for command in init_commands:\n",
    "    send_command(commissioner, command)"
   ]
  },
  {
   "cell_type": "code",
   "execution_count": 183,
   "metadata": {},
   "outputs": [
    {
     "name": "stdout",
     "output_type": "stream",
     "text": [
      "scan\n",
      "| J | Network Name     | Extended PAN     | PAN  | MAC Address      | Ch | dBm | LQI |\n",
      "+---+------------------+------------------+------+------------------+----+-----+-----+\n",
      "> | 0 | OpenThread-8537  | fe3c51f31c666cd7 | dead | 6a341547415e0014 | 26 | -31 | 107 |\n",
      "Done\n"
     ]
    }
   ],
   "source": [
    "# scan the network\n",
    "send_command(joiner, \"scan\")\n",
    "read_answer(joiner, back=False)"
   ]
  },
  {
   "cell_type": "code",
   "execution_count": 184,
   "metadata": {},
   "outputs": [
    {
     "name": "stdout",
     "output_type": "stream",
     "text": [
      "eui64\r\n",
      "00124b0014b5ee4a\r\n",
      "Done\r\n"
     ]
    }
   ],
   "source": [
    "# get the eui64 from the joiner\n",
    "commands = send_command(joiner, \"eui64\", back=True)\n",
    "euid = commands[1][:-2]"
   ]
  },
  {
   "cell_type": "code",
   "execution_count": 191,
   "metadata": {
    "scrolled": true
   },
   "outputs": [
    {
     "name": "stdout",
     "output_type": "stream",
     "text": [
      "> commissioner start\r\n",
      "Commissioner: petitioning\r\n",
      "Done\r\n"
     ]
    }
   ],
   "source": [
    "# Add the euid to the commissioner\n",
    "send_command(commissioner, \"commissioner start\")\n",
    "#read_answer(commissioner, back=False)"
   ]
  },
  {
   "cell_type": "code",
   "execution_count": 192,
   "metadata": {},
   "outputs": [
    {
     "name": "stdout",
     "output_type": "stream",
     "text": [
      "> Commissioner: active\r\n",
      "commissioner joiner add 00124b0014b5ee4a AAAA\r\n",
      "Done\r\n"
     ]
    }
   ],
   "source": [
    "send_command(commissioner, f\"commissioner joiner add {euid} AAAA\")"
   ]
  },
  {
   "cell_type": "code",
   "execution_count": 193,
   "metadata": {
    "scrolled": true
   },
   "outputs": [
    {
     "name": "stdout",
     "output_type": "stream",
     "text": [
      "> ifconfig up\r\n",
      "Done\r\n",
      "> panid 0xdead\r\n",
      "Done\r\n"
     ]
    }
   ],
   "source": [
    "send_command(joiner, \"ifconfig up\")\n",
    "send_command(joiner, \"panid 0xdead\")"
   ]
  },
  {
   "cell_type": "code",
   "execution_count": 194,
   "metadata": {},
   "outputs": [
    {
     "name": "stdout",
     "output_type": "stream",
     "text": [
      "> joiner start AAAA\r\n",
      "Done\r\n"
     ]
    }
   ],
   "source": [
    "send_command(joiner, \"joiner start AAAA\")"
   ]
  },
  {
   "cell_type": "code",
   "execution_count": 26,
   "metadata": {},
   "outputs": [
    {
     "name": "stdout",
     "output_type": "stream",
     "text": [
      "> ipaddr\r\n",
      "fd44:8ed8:835:4df8:0:ff:fe00:cc02\r\n",
      "fd44:8ed8:835:4df8:2b60:4dbd:e58f:2d5a\r\n",
      "fe80:0:0:0:cc05:14a:621c:1d0d\r\n"
     ]
    }
   ],
   "source": [
    "send_command(joiner, \"ipaddr\")"
   ]
  },
  {
   "cell_type": "code",
   "execution_count": 16,
   "metadata": {
    "collapsed": true
   },
   "outputs": [
    {
     "name": "stdout",
     "output_type": "stream",
     "text": [
      "factoryreset"
     ]
    },
    {
     "ename": "KeyboardInterrupt",
     "evalue": "",
     "output_type": "error",
     "traceback": [
      "\u001b[0;31m---------------------------------------------------------------------------\u001b[0m",
      "\u001b[0;31mKeyboardInterrupt\u001b[0m                         Traceback (most recent call last)",
      "\u001b[0;32m<ipython-input-16-a3c78290bb8c>\u001b[0m in \u001b[0;36m<module>\u001b[0;34m\u001b[0m\n\u001b[0;32m----> 1\u001b[0;31m \u001b[0msend_command\u001b[0m\u001b[0;34m(\u001b[0m\u001b[0mcommissioner\u001b[0m\u001b[0;34m,\u001b[0m \u001b[0;34m\"factoryreset\"\u001b[0m\u001b[0;34m)\u001b[0m\u001b[0;34m\u001b[0m\u001b[0;34m\u001b[0m\u001b[0m\n\u001b[0m",
      "\u001b[0;32m<ipython-input-9-fbef3d182aa1>\u001b[0m in \u001b[0;36msend_command\u001b[0;34m(serial_d, command, back)\u001b[0m\n\u001b[1;32m      1\u001b[0m \u001b[0;32mdef\u001b[0m \u001b[0msend_command\u001b[0m\u001b[0;34m(\u001b[0m\u001b[0mserial_d\u001b[0m\u001b[0;34m,\u001b[0m \u001b[0mcommand\u001b[0m\u001b[0;34m,\u001b[0m \u001b[0mback\u001b[0m\u001b[0;34m=\u001b[0m\u001b[0;32mFalse\u001b[0m\u001b[0;34m)\u001b[0m\u001b[0;34m:\u001b[0m\u001b[0;34m\u001b[0m\u001b[0;34m\u001b[0m\u001b[0m\n\u001b[1;32m      2\u001b[0m     \u001b[0mserial_d\u001b[0m\u001b[0;34m.\u001b[0m\u001b[0mwrite\u001b[0m\u001b[0;34m(\u001b[0m\u001b[0;34m(\u001b[0m\u001b[0mcommand\u001b[0m\u001b[0;34m+\u001b[0m\u001b[0;34m\"\\n\"\u001b[0m\u001b[0;34m)\u001b[0m\u001b[0;34m.\u001b[0m\u001b[0mencode\u001b[0m\u001b[0;34m(\u001b[0m\u001b[0;34m)\u001b[0m\u001b[0;34m)\u001b[0m\u001b[0;34m\u001b[0m\u001b[0;34m\u001b[0m\u001b[0m\n\u001b[0;32m----> 3\u001b[0;31m     \u001b[0;32mreturn\u001b[0m \u001b[0mread_answer\u001b[0m\u001b[0;34m(\u001b[0m\u001b[0mserial_d\u001b[0m\u001b[0;34m,\u001b[0m \u001b[0mback\u001b[0m\u001b[0;34m=\u001b[0m\u001b[0mback\u001b[0m\u001b[0;34m)\u001b[0m\u001b[0;34m\u001b[0m\u001b[0;34m\u001b[0m\u001b[0m\n\u001b[0m",
      "\u001b[0;32m<ipython-input-8-acb8ba298347>\u001b[0m in \u001b[0;36mread_answer\u001b[0;34m(serial_d, back)\u001b[0m\n\u001b[1;32m      4\u001b[0m     \u001b[0;32mwhile\u001b[0m \u001b[0;32mnot\u001b[0m \u001b[0;34m(\u001b[0m\u001b[0mdata\u001b[0m \u001b[0;34m==\u001b[0m \u001b[0;34m\"> \"\u001b[0m \u001b[0;32mor\u001b[0m \u001b[0mdata\u001b[0m \u001b[0;34m==\u001b[0m \u001b[0;34m\"Done\\r\\n\"\u001b[0m\u001b[0;34m)\u001b[0m\u001b[0;34m:\u001b[0m\u001b[0;34m\u001b[0m\u001b[0;34m\u001b[0m\u001b[0m\n\u001b[1;32m      5\u001b[0m         \u001b[0mprint\u001b[0m\u001b[0;34m(\u001b[0m\u001b[0mdata\u001b[0m\u001b[0;34m,\u001b[0m \u001b[0mend\u001b[0m\u001b[0;34m=\u001b[0m\u001b[0;34m\"\"\u001b[0m\u001b[0;34m)\u001b[0m\u001b[0;34m\u001b[0m\u001b[0;34m\u001b[0m\u001b[0m\n\u001b[0;32m----> 6\u001b[0;31m         \u001b[0mdata\u001b[0m \u001b[0;34m=\u001b[0m \u001b[0mserial_d\u001b[0m\u001b[0;34m.\u001b[0m\u001b[0mreadline\u001b[0m\u001b[0;34m(\u001b[0m\u001b[0;34m)\u001b[0m\u001b[0;34m.\u001b[0m\u001b[0mdecode\u001b[0m\u001b[0;34m(\u001b[0m\u001b[0;34m'ascii'\u001b[0m\u001b[0;34m)\u001b[0m\u001b[0;34m\u001b[0m\u001b[0;34m\u001b[0m\u001b[0m\n\u001b[0m\u001b[1;32m      7\u001b[0m         \u001b[0mret\u001b[0m\u001b[0;34m.\u001b[0m\u001b[0mappend\u001b[0m\u001b[0;34m(\u001b[0m\u001b[0mdata\u001b[0m\u001b[0;34m)\u001b[0m\u001b[0;34m\u001b[0m\u001b[0;34m\u001b[0m\u001b[0m\n\u001b[1;32m      8\u001b[0m     \u001b[0;32mif\u001b[0m \u001b[0mback\u001b[0m\u001b[0;34m:\u001b[0m\u001b[0;34m\u001b[0m\u001b[0;34m\u001b[0m\u001b[0m\n",
      "\u001b[0;32m~/.local/lib/python3.7/site-packages/serial/serialposix.py\u001b[0m in \u001b[0;36mread\u001b[0;34m(self, size)\u001b[0m\n\u001b[1;32m    481\u001b[0m         \u001b[0;32mwhile\u001b[0m \u001b[0mlen\u001b[0m\u001b[0;34m(\u001b[0m\u001b[0mread\u001b[0m\u001b[0;34m)\u001b[0m \u001b[0;34m<\u001b[0m \u001b[0msize\u001b[0m\u001b[0;34m:\u001b[0m\u001b[0;34m\u001b[0m\u001b[0;34m\u001b[0m\u001b[0m\n\u001b[1;32m    482\u001b[0m             \u001b[0;32mtry\u001b[0m\u001b[0;34m:\u001b[0m\u001b[0;34m\u001b[0m\u001b[0;34m\u001b[0m\u001b[0m\n\u001b[0;32m--> 483\u001b[0;31m                 \u001b[0mready\u001b[0m\u001b[0;34m,\u001b[0m \u001b[0m_\u001b[0m\u001b[0;34m,\u001b[0m \u001b[0m_\u001b[0m \u001b[0;34m=\u001b[0m \u001b[0mselect\u001b[0m\u001b[0;34m.\u001b[0m\u001b[0mselect\u001b[0m\u001b[0;34m(\u001b[0m\u001b[0;34m[\u001b[0m\u001b[0mself\u001b[0m\u001b[0;34m.\u001b[0m\u001b[0mfd\u001b[0m\u001b[0;34m,\u001b[0m \u001b[0mself\u001b[0m\u001b[0;34m.\u001b[0m\u001b[0mpipe_abort_read_r\u001b[0m\u001b[0;34m]\u001b[0m\u001b[0;34m,\u001b[0m \u001b[0;34m[\u001b[0m\u001b[0;34m]\u001b[0m\u001b[0;34m,\u001b[0m \u001b[0;34m[\u001b[0m\u001b[0;34m]\u001b[0m\u001b[0;34m,\u001b[0m \u001b[0mtimeout\u001b[0m\u001b[0;34m.\u001b[0m\u001b[0mtime_left\u001b[0m\u001b[0;34m(\u001b[0m\u001b[0;34m)\u001b[0m\u001b[0;34m)\u001b[0m\u001b[0;34m\u001b[0m\u001b[0;34m\u001b[0m\u001b[0m\n\u001b[0m\u001b[1;32m    484\u001b[0m                 \u001b[0;32mif\u001b[0m \u001b[0mself\u001b[0m\u001b[0;34m.\u001b[0m\u001b[0mpipe_abort_read_r\u001b[0m \u001b[0;32min\u001b[0m \u001b[0mready\u001b[0m\u001b[0;34m:\u001b[0m\u001b[0;34m\u001b[0m\u001b[0;34m\u001b[0m\u001b[0m\n\u001b[1;32m    485\u001b[0m                     \u001b[0mos\u001b[0m\u001b[0;34m.\u001b[0m\u001b[0mread\u001b[0m\u001b[0;34m(\u001b[0m\u001b[0mself\u001b[0m\u001b[0;34m.\u001b[0m\u001b[0mpipe_abort_read_r\u001b[0m\u001b[0;34m,\u001b[0m \u001b[0;36m1000\u001b[0m\u001b[0;34m)\u001b[0m\u001b[0;34m\u001b[0m\u001b[0;34m\u001b[0m\u001b[0m\n",
      "\u001b[0;31mKeyboardInterrupt\u001b[0m: "
     ]
    }
   ],
   "source": [
    "send_command(commissioner, \"factoryreset\")"
   ]
  },
  {
   "cell_type": "code",
   "execution_count": 28,
   "metadata": {
    "scrolled": false
   },
   "outputs": [
    {
     "name": "stdout",
     "output_type": "stream",
     "text": [
      "ping fd44:8ed8:835:4df8:0:ff:fe00:cc02\r\n",
      "> 16 bytes from fd44:8ed8:835:4df8:0:ff:fe00:cc02: icmp_seq=2 hlim=64 time=11ms\r\n"
     ]
    },
    {
     "ename": "KeyboardInterrupt",
     "evalue": "",
     "output_type": "error",
     "traceback": [
      "\u001b[0;31m---------------------------------------------------------------------------\u001b[0m",
      "\u001b[0;31mKeyboardInterrupt\u001b[0m                         Traceback (most recent call last)",
      "\u001b[0;32m<ipython-input-28-f2fd0e367da9>\u001b[0m in \u001b[0;36m<module>\u001b[0;34m\u001b[0m\n\u001b[0;32m----> 1\u001b[0;31m \u001b[0msend_command\u001b[0m\u001b[0;34m(\u001b[0m\u001b[0mcommissioner\u001b[0m\u001b[0;34m,\u001b[0m \u001b[0;34m\"ping fd44:8ed8:835:4df8:0:ff:fe00:cc02\"\u001b[0m\u001b[0;34m)\u001b[0m\u001b[0;34m\u001b[0m\u001b[0;34m\u001b[0m\u001b[0m\n\u001b[0m",
      "\u001b[0;32m<ipython-input-9-fbef3d182aa1>\u001b[0m in \u001b[0;36msend_command\u001b[0;34m(serial_d, command, back)\u001b[0m\n\u001b[1;32m      1\u001b[0m \u001b[0;32mdef\u001b[0m \u001b[0msend_command\u001b[0m\u001b[0;34m(\u001b[0m\u001b[0mserial_d\u001b[0m\u001b[0;34m,\u001b[0m \u001b[0mcommand\u001b[0m\u001b[0;34m,\u001b[0m \u001b[0mback\u001b[0m\u001b[0;34m=\u001b[0m\u001b[0;32mFalse\u001b[0m\u001b[0;34m)\u001b[0m\u001b[0;34m:\u001b[0m\u001b[0;34m\u001b[0m\u001b[0;34m\u001b[0m\u001b[0m\n\u001b[1;32m      2\u001b[0m     \u001b[0mserial_d\u001b[0m\u001b[0;34m.\u001b[0m\u001b[0mwrite\u001b[0m\u001b[0;34m(\u001b[0m\u001b[0;34m(\u001b[0m\u001b[0mcommand\u001b[0m\u001b[0;34m+\u001b[0m\u001b[0;34m\"\\n\"\u001b[0m\u001b[0;34m)\u001b[0m\u001b[0;34m.\u001b[0m\u001b[0mencode\u001b[0m\u001b[0;34m(\u001b[0m\u001b[0;34m)\u001b[0m\u001b[0;34m)\u001b[0m\u001b[0;34m\u001b[0m\u001b[0;34m\u001b[0m\u001b[0m\n\u001b[0;32m----> 3\u001b[0;31m     \u001b[0;32mreturn\u001b[0m \u001b[0mread_answer\u001b[0m\u001b[0;34m(\u001b[0m\u001b[0mserial_d\u001b[0m\u001b[0;34m,\u001b[0m \u001b[0mback\u001b[0m\u001b[0;34m=\u001b[0m\u001b[0mback\u001b[0m\u001b[0;34m)\u001b[0m\u001b[0;34m\u001b[0m\u001b[0;34m\u001b[0m\u001b[0m\n\u001b[0m",
      "\u001b[0;32m<ipython-input-8-acb8ba298347>\u001b[0m in \u001b[0;36mread_answer\u001b[0;34m(serial_d, back)\u001b[0m\n\u001b[1;32m      4\u001b[0m     \u001b[0;32mwhile\u001b[0m \u001b[0;32mnot\u001b[0m \u001b[0;34m(\u001b[0m\u001b[0mdata\u001b[0m \u001b[0;34m==\u001b[0m \u001b[0;34m\"> \"\u001b[0m \u001b[0;32mor\u001b[0m \u001b[0mdata\u001b[0m \u001b[0;34m==\u001b[0m \u001b[0;34m\"Done\\r\\n\"\u001b[0m\u001b[0;34m)\u001b[0m\u001b[0;34m:\u001b[0m\u001b[0;34m\u001b[0m\u001b[0;34m\u001b[0m\u001b[0m\n\u001b[1;32m      5\u001b[0m         \u001b[0mprint\u001b[0m\u001b[0;34m(\u001b[0m\u001b[0mdata\u001b[0m\u001b[0;34m,\u001b[0m \u001b[0mend\u001b[0m\u001b[0;34m=\u001b[0m\u001b[0;34m\"\"\u001b[0m\u001b[0;34m)\u001b[0m\u001b[0;34m\u001b[0m\u001b[0;34m\u001b[0m\u001b[0m\n\u001b[0;32m----> 6\u001b[0;31m         \u001b[0mdata\u001b[0m \u001b[0;34m=\u001b[0m \u001b[0mserial_d\u001b[0m\u001b[0;34m.\u001b[0m\u001b[0mreadline\u001b[0m\u001b[0;34m(\u001b[0m\u001b[0;34m)\u001b[0m\u001b[0;34m.\u001b[0m\u001b[0mdecode\u001b[0m\u001b[0;34m(\u001b[0m\u001b[0;34m'ascii'\u001b[0m\u001b[0;34m)\u001b[0m\u001b[0;34m\u001b[0m\u001b[0;34m\u001b[0m\u001b[0m\n\u001b[0m\u001b[1;32m      7\u001b[0m         \u001b[0mret\u001b[0m\u001b[0;34m.\u001b[0m\u001b[0mappend\u001b[0m\u001b[0;34m(\u001b[0m\u001b[0mdata\u001b[0m\u001b[0;34m)\u001b[0m\u001b[0;34m\u001b[0m\u001b[0;34m\u001b[0m\u001b[0m\n\u001b[1;32m      8\u001b[0m     \u001b[0;32mif\u001b[0m \u001b[0mback\u001b[0m\u001b[0;34m:\u001b[0m\u001b[0;34m\u001b[0m\u001b[0;34m\u001b[0m\u001b[0m\n",
      "\u001b[0;32m~/.local/lib/python3.7/site-packages/serial/serialposix.py\u001b[0m in \u001b[0;36mread\u001b[0;34m(self, size)\u001b[0m\n\u001b[1;32m    481\u001b[0m         \u001b[0;32mwhile\u001b[0m \u001b[0mlen\u001b[0m\u001b[0;34m(\u001b[0m\u001b[0mread\u001b[0m\u001b[0;34m)\u001b[0m \u001b[0;34m<\u001b[0m \u001b[0msize\u001b[0m\u001b[0;34m:\u001b[0m\u001b[0;34m\u001b[0m\u001b[0;34m\u001b[0m\u001b[0m\n\u001b[1;32m    482\u001b[0m             \u001b[0;32mtry\u001b[0m\u001b[0;34m:\u001b[0m\u001b[0;34m\u001b[0m\u001b[0;34m\u001b[0m\u001b[0m\n\u001b[0;32m--> 483\u001b[0;31m                 \u001b[0mready\u001b[0m\u001b[0;34m,\u001b[0m \u001b[0m_\u001b[0m\u001b[0;34m,\u001b[0m \u001b[0m_\u001b[0m \u001b[0;34m=\u001b[0m \u001b[0mselect\u001b[0m\u001b[0;34m.\u001b[0m\u001b[0mselect\u001b[0m\u001b[0;34m(\u001b[0m\u001b[0;34m[\u001b[0m\u001b[0mself\u001b[0m\u001b[0;34m.\u001b[0m\u001b[0mfd\u001b[0m\u001b[0;34m,\u001b[0m \u001b[0mself\u001b[0m\u001b[0;34m.\u001b[0m\u001b[0mpipe_abort_read_r\u001b[0m\u001b[0;34m]\u001b[0m\u001b[0;34m,\u001b[0m \u001b[0;34m[\u001b[0m\u001b[0;34m]\u001b[0m\u001b[0;34m,\u001b[0m \u001b[0;34m[\u001b[0m\u001b[0;34m]\u001b[0m\u001b[0;34m,\u001b[0m \u001b[0mtimeout\u001b[0m\u001b[0;34m.\u001b[0m\u001b[0mtime_left\u001b[0m\u001b[0;34m(\u001b[0m\u001b[0;34m)\u001b[0m\u001b[0;34m)\u001b[0m\u001b[0;34m\u001b[0m\u001b[0;34m\u001b[0m\u001b[0m\n\u001b[0m\u001b[1;32m    484\u001b[0m                 \u001b[0;32mif\u001b[0m \u001b[0mself\u001b[0m\u001b[0;34m.\u001b[0m\u001b[0mpipe_abort_read_r\u001b[0m \u001b[0;32min\u001b[0m \u001b[0mready\u001b[0m\u001b[0;34m:\u001b[0m\u001b[0;34m\u001b[0m\u001b[0;34m\u001b[0m\u001b[0m\n\u001b[1;32m    485\u001b[0m                     \u001b[0mos\u001b[0m\u001b[0;34m.\u001b[0m\u001b[0mread\u001b[0m\u001b[0;34m(\u001b[0m\u001b[0mself\u001b[0m\u001b[0;34m.\u001b[0m\u001b[0mpipe_abort_read_r\u001b[0m\u001b[0;34m,\u001b[0m \u001b[0;36m1000\u001b[0m\u001b[0;34m)\u001b[0m\u001b[0;34m\u001b[0m\u001b[0;34m\u001b[0m\u001b[0m\n",
      "\u001b[0;31mKeyboardInterrupt\u001b[0m: "
     ]
    }
   ],
   "source": [
    "send_command(commissioner, \"ping fd44:8ed8:835:4df8:0:ff:fe00:cc02\")"
   ]
  },
  {
   "cell_type": "code",
   "execution_count": 196,
   "metadata": {},
   "outputs": [
    {
     "name": "stdout",
     "output_type": "stream",
     "text": [
      "Join success\n",
      "Stopped by the user!\n"
     ]
    }
   ],
   "source": [
    "try:\n",
    "    read_answer(joiner, back=False)\n",
    "except:\n",
    "    print(\"Stopped by the user!\")"
   ]
  },
  {
   "cell_type": "code",
   "execution_count": 31,
   "metadata": {},
   "outputs": [
    {
     "name": "stdout",
     "output_type": "stream",
     "text": [
      "Stopped by the user!\n"
     ]
    }
   ],
   "source": [
    "try:\n",
    "    read_answer(commissioner, back=False)\n",
    "except:\n",
    "    print(\"Stopped by the user!\")"
   ]
  },
  {
   "cell_type": "code",
   "execution_count": 158,
   "metadata": {},
   "outputs": [
    {
     "name": "stdout",
     "output_type": "stream",
     "text": [
      "> ipaddr\r\n",
      "fd33:750b:c7bf:d78a:0:ff:fe00:f000\r\n",
      "fd33:750b:c7bf:d78a:dac7:4b6c:37a9:809e\r\n",
      "fe80:0:0:0:f4de:c5c9:2f32:23dc\r\n",
      "Done\r\n"
     ]
    }
   ],
   "source": [
    "a = send_command(joiner, \"ipaddr\", back=True)"
   ]
  },
  {
   "cell_type": "code",
   "execution_count": 159,
   "metadata": {},
   "outputs": [
    {
     "data": {
      "text/plain": [
       "'fd33:750b:c7bf:d78a:0:ff:fe00:f000'"
      ]
     },
     "execution_count": 159,
     "metadata": {},
     "output_type": "execute_result"
    }
   ],
   "source": [
    "a[1][:-2]"
   ]
  },
  {
   "cell_type": "markdown",
   "metadata": {},
   "source": [
    "# Abstract classes test"
   ]
  },
  {
   "cell_type": "code",
   "execution_count": 7,
   "metadata": {},
   "outputs": [],
   "source": [
    "from abc import ABC"
   ]
  },
  {
   "cell_type": "code",
   "execution_count": 30,
   "metadata": {},
   "outputs": [],
   "source": [
    "class Device(ABC):\n",
    "    \"\"\" Abstract class for the Device object. It exposes a common interface \n",
    "    for being used by the main program. It is further implemented\n",
    "    by the USBDevice, HTTPDevice and MockDevice. \"\"\"\n",
    "    \n",
    "    @abc.abstractmethod\n",
    "    def __init__(self, color):\n",
    "        self.color = color\n",
    "    \n",
    "    @abc.abstractmethod\n",
    "    def send_command(self):\n",
    "        pass\n",
    "    \n",
    "    @abc.abstractmethod\n",
    "    def read_answer(self):\n",
    "        pass\n",
    "\n",
    "class USBDevice(Device):\n",
    "    \"\"\" Implementation of the Device class for USB connected platforms. \"\"\"\n",
    "    def __init__(self):\n",
    "        super().__init__(\"red\")\n",
    "        pass\n",
    "    def send_command(self):\n",
    "        pass\n",
    "    def read_answer(self):\n",
    "        pass\n",
    "\n",
    "class HTTPDevice(Device):\n",
    "    \"\"\" Implementation\"\"\"\n",
    "    def send_command(self):\n",
    "        pass\n",
    "    def read_answer(self):\n",
    "        pass\n",
    "\n",
    "class MockDevice(Device):\n",
    "    def send_command(self):\n",
    "        pass\n",
    "    def read_answer(self):\n",
    "        pass"
   ]
  },
  {
   "cell_type": "code",
   "execution_count": 32,
   "metadata": {},
   "outputs": [
    {
     "ename": "TypeError",
     "evalue": "__init__() takes 2 positional arguments but 3 were given",
     "output_type": "error",
     "traceback": [
      "\u001b[0;31m---------------------------------------------------------------------------\u001b[0m",
      "\u001b[0;31mTypeError\u001b[0m                                 Traceback (most recent call last)",
      "\u001b[0;32m<ipython-input-32-bedadeb4548a>\u001b[0m in \u001b[0;36m<module>\u001b[0;34m\u001b[0m\n\u001b[0;32m----> 1\u001b[0;31m \u001b[0mp\u001b[0m \u001b[0;34m=\u001b[0m \u001b[0mUSBDevice\u001b[0m\u001b[0;34m(\u001b[0m\u001b[0;34m)\u001b[0m\u001b[0;34m\u001b[0m\u001b[0;34m\u001b[0m\u001b[0m\n\u001b[0m",
      "\u001b[0;32m<ipython-input-30-dfe40ef619ff>\u001b[0m in \u001b[0;36m__init__\u001b[0;34m(self)\u001b[0m\n\u001b[1;32m     19\u001b[0m     \u001b[0;34m\"\"\" Implementation of the Device class for USB connected platforms. \"\"\"\u001b[0m\u001b[0;34m\u001b[0m\u001b[0;34m\u001b[0m\u001b[0m\n\u001b[1;32m     20\u001b[0m     \u001b[0;32mdef\u001b[0m \u001b[0m__init__\u001b[0m\u001b[0;34m(\u001b[0m\u001b[0mself\u001b[0m\u001b[0;34m)\u001b[0m\u001b[0;34m:\u001b[0m\u001b[0;34m\u001b[0m\u001b[0;34m\u001b[0m\u001b[0m\n\u001b[0;32m---> 21\u001b[0;31m         \u001b[0msuper\u001b[0m\u001b[0;34m(\u001b[0m\u001b[0;34m)\u001b[0m\u001b[0;34m.\u001b[0m\u001b[0m__init__\u001b[0m\u001b[0;34m(\u001b[0m\u001b[0;34m\"red\"\u001b[0m\u001b[0;34m,\u001b[0m\u001b[0;34m\"calamr\"\u001b[0m\u001b[0;34m)\u001b[0m\u001b[0;34m\u001b[0m\u001b[0;34m\u001b[0m\u001b[0m\n\u001b[0m\u001b[1;32m     22\u001b[0m         \u001b[0;32mpass\u001b[0m\u001b[0;34m\u001b[0m\u001b[0;34m\u001b[0m\u001b[0m\n\u001b[1;32m     23\u001b[0m     \u001b[0;32mdef\u001b[0m \u001b[0msend_command\u001b[0m\u001b[0;34m(\u001b[0m\u001b[0mself\u001b[0m\u001b[0;34m)\u001b[0m\u001b[0;34m:\u001b[0m\u001b[0;34m\u001b[0m\u001b[0;34m\u001b[0m\u001b[0m\n",
      "\u001b[0;31mTypeError\u001b[0m: __init__() takes 2 positional arguments but 3 were given"
     ]
    }
   ],
   "source": [
    "p = USBDevice()"
   ]
  },
  {
   "cell_type": "code",
   "execution_count": 31,
   "metadata": {},
   "outputs": [
    {
     "data": {
      "text/plain": [
       "'red'"
      ]
     },
     "execution_count": 31,
     "metadata": {},
     "output_type": "execute_result"
    }
   ],
   "source": [
    "p.color"
   ]
  },
  {
   "cell_type": "code",
   "execution_count": 1,
   "metadata": {},
   "outputs": [],
   "source": [
    "class ob:\n",
    "    pass"
   ]
  },
  {
   "cell_type": "code",
   "execution_count": 2,
   "metadata": {},
   "outputs": [],
   "source": [
    "p = ob"
   ]
  },
  {
   "cell_type": "code",
   "execution_count": 9,
   "metadata": {},
   "outputs": [
    {
     "ename": "NameError",
     "evalue": "name 'mro' is not defined",
     "output_type": "error",
     "traceback": [
      "\u001b[0;31m---------------------------------------------------------------------------\u001b[0m",
      "\u001b[0;31mNameError\u001b[0m                                 Traceback (most recent call last)",
      "\u001b[0;32m<ipython-input-9-bb3559208b6c>\u001b[0m in \u001b[0;36m<module>\u001b[0;34m\u001b[0m\n\u001b[0;32m----> 1\u001b[0;31m \u001b[0mmro\u001b[0m\u001b[0;34m.\u001b[0m\u001b[0mmro\u001b[0m\u001b[0;34m(\u001b[0m\u001b[0;34m)\u001b[0m\u001b[0;34m\u001b[0m\u001b[0;34m\u001b[0m\u001b[0m\n\u001b[0m",
      "\u001b[0;31mNameError\u001b[0m: name 'mro' is not defined"
     ]
    }
   ],
   "source": [
    "mro.mro()"
   ]
  },
  {
   "cell_type": "markdown",
   "metadata": {},
   "source": [
    "# Graph package tests"
   ]
  },
  {
   "cell_type": "code",
   "execution_count": 190,
   "metadata": {},
   "outputs": [],
   "source": [
    "def all_to_one():\n",
    "        \"\"\" Creates all to one topology\n",
    "            Returns:\n",
    "            - adjacency_dict : dictionary with the pairs id:[connected_ids]\n",
    "              all the data are integers    \n",
    "        \"\"\"\n",
    "      \n",
    "\n",
    "        # It is better to use the ids as they are integers and provide a\n",
    "        # way to decouple the data structures (by means of a join)\n",
    "        ids = [1,2,3,4,5,6,88]\n",
    "\n",
    "        # The last element will be the commissioner, so it gets deleted\n",
    "        # from the list and saved in a variable as it will be used later\n",
    "        commissioner_id = ids.pop()\n",
    "\n",
    "        # Create adjacency list with all the current devices connectating\n",
    "        # to the commissioner\n",
    "        adjacency_dictionary = {idn: [commissioner_id] for idn in ids}\n",
    "\n",
    "        # we add the entry for the commissioner and it's ready\n",
    "        adjacency_dictionary[commissioner_id] = []\n",
    "\n",
    "        return adjacency_dictionary"
   ]
  },
  {
   "cell_type": "code",
   "execution_count": 5,
   "metadata": {},
   "outputs": [],
   "source": [
    "from manager import DeviceManager\n",
    "import os"
   ]
  },
  {
   "cell_type": "code",
   "execution_count": 2,
   "metadata": {},
   "outputs": [],
   "source": [
    "PAEManager = DeviceManager()\n",
    "\n",
    "# Get devices(boards) in the system\n",
    "# devices = PAEManager.get_USBDevices()\n",
    "devices = PAEManager.get_MockDevices(18)\n",
    "# devices = PAEManager.get_HTTPDevices()\n",
    "\n",
    "PAEManager.devices = devices\n",
    "\n",
    "# TODO: Decouple configuration from the code. Create YAML file with all the configs\n",
    "\n",
    "# Set topology\n",
    "top = PAEManager.all_to_one()\n",
    "PAEManager.topology = top"
   ]
  },
  {
   "cell_type": "code",
   "execution_count": 30,
   "metadata": {},
   "outputs": [],
   "source": [
    "def plot_graph(self):\n",
    "    \"\"\" Plots the topology \n",
    "        It generates an image with the networkx library, stores it in /\n",
    "        and opens the image\n",
    "    \"\"\"\n",
    "\n",
    "    # Necessary imports\n",
    "    import networkx as nx\n",
    "    import matplotlib.pyplot as plt\n",
    "\n",
    "    # Vars\n",
    "    lines = []\n",
    "    \n",
    "    # networkx needs a list with the following structure:\n",
    "    # ['1 connected nodes', '2 connected nodes', ... ]\n",
    "    # It has a string for every node containing the chronological order\n",
    "    # the connections it has.\n",
    "    # Example all to one structure:\n",
    "    # ['1 3', '2 3', '3 ']\n",
    "    # In this example the first two nodes are connected to the \n",
    "    # third node. Note that the index starts at one\n",
    "    for key,values in self.topology.items():\n",
    "        \n",
    "        intermed = \", \".join([str(j+1) for j in values])\n",
    "        lines.append(f'{key+1} {intermed}')\n",
    "    \n",
    "    #lines = ['1 3', '2 3', '3 ']\n",
    "    \n",
    "    \n",
    "    # Create networkx Graph from the adjacency list\n",
    "    G = nx.parse_adjlist(lines, nodetype = int)\n",
    "    \n",
    "    # Get a dict with the labels of every node\n",
    "    labels = dict((n, self.devices[n-1].name) for n in G.nodes())\n",
    "    \n",
    "    # networkx call to generate the image\n",
    "    nx.draw(G, with_labels=True, font_weight='bold', node_color=\"powderblue\", labels=labels)\n",
    "    \n",
    "    # Export image and open with eog\n",
    "    #plt.savefig('foo.png')\n",
    "    #os.system(\"eog foo.png &\")\n",
    "\n",
    "    pass"
   ]
  },
  {
   "cell_type": "code",
   "execution_count": 31,
   "metadata": {},
   "outputs": [
    {
     "name": "stdout",
     "output_type": "stream",
     "text": [
      "{1: 'Mock0', 18: 'Mock17', 2: 'Mock1', 3: 'Mock2', 4: 'Mock3', 5: 'Mock4', 6: 'Mock5', 7: 'Mock6', 8: 'Mock7', 9: 'Mock8', 10: 'Mock9', 11: 'Mock10', 12: 'Mock11', 13: 'Mock12', 14: 'Mock13', 15: 'Mock14', 16: 'Mock15', 17: 'Mock16'}\n",
      "['1 18', '2 18', '3 18', '4 18', '5 18', '6 18', '7 18', '8 18', '9 18', '10 18', '11 18', '12 18', '13 18', '14 18', '15 18', '16 18', '17 18', '18 ']\n"
     ]
    },
    {
     "data": {
      "image/png": "[encoded data removed]",
      "text/plain": [
       "<Figure size 432x288 with 1 Axes>"
      ]
     },
     "metadata": {},
     "output_type": "display_data"
    }
   ],
   "source": [
    "plot_graph(PAEManager)"
   ]
  },
  {
   "cell_type": "code",
   "execution_count": null,
   "metadata": {},
   "outputs": [],
   "source": []
  },
  {
   "cell_type": "code",
   "execution_count": null,
   "metadata": {},
   "outputs": [],
   "source": []
  },
  {
   "cell_type": "code",
   "execution_count": null,
   "metadata": {},
   "outputs": [],
   "source": []
  }
 ],
 "metadata": {
  "kernelspec": {
   "display_name": "Python 3",
   "language": "python",
   "name": "python3"
  },
  "language_info": {
   "codemirror_mode": {
    "name": "ipython",
    "version": 3
   },
   "file_extension": ".py",
   "mimetype": "text/x-python",
   "name": "python",
   "nbconvert_exporter": "python",
   "pygments_lexer": "ipython3",
   "version": "3.7.4"
  }
 },
 "nbformat": 4,
 "nbformat_minor": 2
}
